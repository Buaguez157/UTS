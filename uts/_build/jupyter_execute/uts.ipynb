{
 "cells": [
  {
   "cell_type": "markdown",
   "metadata": {
    "id": "XnSjWaM6gGg1"
   },
   "source": [
    "**1. Judul & Deskripsi**\n",
    "\n",
    "#  Cirrhosis Patient Survival Prediction\n",
    "UTS Penambangan Data — Klasifikasi menggunakan Naive Bayes\n",
    "\n",
    "**2. Import Library**"
   ]
  },
  {
   "cell_type": "code",
   "execution_count": 1,
   "metadata": {
    "id": "PpeZHMWjgNmJ"
   },
   "outputs": [],
   "source": [
    "import pandas as pd\n",
    "import numpy as np\n",
    "import seaborn as sns\n",
    "import matplotlib.pyplot as plt\n",
    "from ucimlrepo import fetch_ucirepo\n",
    "from sklearn.model_selection import train_test_split\n",
    "from sklearn.preprocessing import LabelEncoder, StandardScaler\n",
    "from sklearn.naive_bayes import GaussianNB\n",
    "from sklearn.metrics import accuracy_score, classification_report, confusion_matrix\n"
   ]
  },
  {
   "cell_type": "markdown",
   "metadata": {
    "id": "v6MS1hcKgpnb"
   },
   "source": [
    "**3. Load dan Gabungkan Data**"
   ]
  },
  {
   "cell_type": "code",
   "execution_count": 2,
   "metadata": {
    "id": "m21dHGasgsea"
   },
   "outputs": [],
   "source": [
    "data_raw = fetch_ucirepo(id=878)\n",
    "X = data_raw.data.features\n",
    "y = data_raw.data.targets\n",
    "data = pd.concat([X, y], axis=1)\n"
   ]
  },
  {
   "cell_type": "markdown",
   "metadata": {
    "id": "tOEjSeyhgvz3"
   },
   "source": [
    "**4. Data Understanding**"
   ]
  },
  {
   "cell_type": "code",
   "execution_count": 3,
   "metadata": {
    "colab": {
     "base_uri": "https://localhost:8080/",
     "height": 906
    },
    "id": "YTJeENjDgyJm",
    "outputId": "b738a5e9-cb1f-4747-eb83-d8183017f4b6"
   },
   "outputs": [
    {
     "name": "stdout",
     "output_type": "stream",
     "text": [
      "<class 'pandas.core.frame.DataFrame'>\n",
      "RangeIndex: 418 entries, 0 to 417\n",
      "Data columns (total 18 columns):\n",
      " #   Column         Non-Null Count  Dtype  \n",
      "---  ------         --------------  -----  \n",
      " 0   Drug           313 non-null    object \n",
      " 1   Age            418 non-null    int64  \n",
      " 2   Sex            418 non-null    object \n",
      " 3   Ascites        313 non-null    object \n",
      " 4   Hepatomegaly   313 non-null    object \n",
      " 5   Spiders        313 non-null    object \n",
      " 6   Edema          418 non-null    object \n",
      " 7   Bilirubin      418 non-null    float64\n",
      " 8   Cholesterol    312 non-null    object \n",
      " 9   Albumin        418 non-null    float64\n",
      " 10  Copper         312 non-null    object \n",
      " 11  Alk_Phos       312 non-null    float64\n",
      " 12  SGOT           312 non-null    float64\n",
      " 13  Tryglicerides  312 non-null    object \n",
      " 14  Platelets      411 non-null    object \n",
      " 15  Prothrombin    416 non-null    float64\n",
      " 16  Stage          412 non-null    float64\n",
      " 17  Status         418 non-null    object \n",
      "dtypes: float64(6), int64(1), object(11)\n",
      "memory usage: 58.9+ KB\n"
     ]
    },
    {
     "data": {
      "image/png": "[encoded data removed]",
      "text/plain": [
       "<Figure size 640x480 with 1 Axes>"
      ]
     },
     "metadata": {},
     "output_type": "display_data"
    }
   ],
   "source": [
    "data.info()\n",
    "data.describe()\n",
    "data.isnull().sum()\n",
    "sns.countplot(data=data, x='Status')\n",
    "plt.title(\"Distribusi Status Pasien\")\n",
    "plt.show()\n"
   ]
  },
  {
   "cell_type": "markdown",
   "metadata": {
    "id": "LrfS08g0g19Z"
   },
   "source": [
    "**5. Preprocessing**"
   ]
  },
  {
   "cell_type": "code",
   "execution_count": 4,
   "metadata": {
    "id": "tM7aU1JKg32D"
   },
   "outputs": [],
   "source": [
    "# Isi missing values\n",
    "num_cols = data.select_dtypes(include='number').columns\n",
    "cat_cols = data.select_dtypes(include='object').columns\n",
    "\n",
    "for col in num_cols:\n",
    "    data[col] = data[col].fillna(data[col].median())\n",
    "\n",
    "for col in cat_cols:\n",
    "    data[col] = data[col].fillna(data[col].mode()[0])\n",
    "\n",
    "# Encoding\n",
    "le = LabelEncoder()\n",
    "for col in cat_cols:\n",
    "    data[col] = le.fit_transform(data[col])\n",
    "\n",
    "# Standardisasi\n",
    "scaler = StandardScaler()\n",
    "data[num_cols] = scaler.fit_transform(data[num_cols])\n"
   ]
  },
  {
   "cell_type": "markdown",
   "metadata": {
    "id": "joKBrzmhg7Vv"
   },
   "source": [
    "**6. Split Data**"
   ]
  },
  {
   "cell_type": "code",
   "execution_count": 5,
   "metadata": {
    "id": "nCOUSeIAhDAF"
   },
   "outputs": [],
   "source": [
    "X = data.drop(columns='Status')\n",
    "y = data['Status']\n",
    "X_train, X_test, y_train, y_test = train_test_split(X, y, test_size=0.2, random_state=42)\n"
   ]
  },
  {
   "cell_type": "markdown",
   "metadata": {
    "id": "oQU-AzhJhGJ0"
   },
   "source": [
    "**7. Modeling Naive Bayes**"
   ]
  },
  {
   "cell_type": "code",
   "execution_count": 6,
   "metadata": {
    "id": "fEuMxzi4hHt_"
   },
   "outputs": [],
   "source": [
    "model = GaussianNB()\n",
    "model.fit(X_train, y_train)\n",
    "y_pred = model.predict(X_test)\n"
   ]
  },
  {
   "cell_type": "markdown",
   "metadata": {
    "id": "ScBMmxQdhK_2"
   },
   "source": [
    "**8. Evaluasi**"
   ]
  },
  {
   "cell_type": "code",
   "execution_count": 7,
   "metadata": {
    "colab": {
     "base_uri": "https://localhost:8080/",
     "height": 698
    },
    "id": "4nqxw_U3hMUj",
    "outputId": "3f5d819b-242e-491e-a81a-56e80003c3c1"
   },
   "outputs": [
    {
     "name": "stdout",
     "output_type": "stream",
     "text": [
      "Accuracy: 0.5238095238095238\n",
      "\n",
      "Classification Report:\n",
      "               precision    recall  f1-score   support\n",
      "\n",
      "           0       0.80      0.45      0.58        44\n",
      "           1       0.09      0.75      0.16         4\n",
      "           2       0.81      0.58      0.68        36\n",
      "\n",
      "    accuracy                           0.52        84\n",
      "   macro avg       0.57      0.60      0.47        84\n",
      "weighted avg       0.77      0.52      0.60        84\n",
      "\n"
     ]
    },
    {
     "data": {
      "image/png": "[encoded data removed]",
      "text/plain": [
       "<Figure size 640x480 with 2 Axes>"
      ]
     },
     "metadata": {},
     "output_type": "display_data"
    }
   ],
   "source": [
    "print(\"Accuracy:\", accuracy_score(y_test, y_pred))\n",
    "print(\"\\nClassification Report:\\n\", classification_report(y_test, y_pred))\n",
    "\n",
    "# Confusion Matrix\n",
    "cm = confusion_matrix(y_test, y_pred)\n",
    "sns.heatmap(cm, annot=True, fmt='d', cmap='Blues')\n",
    "plt.title(\"Confusion Matrix\")\n",
    "plt.xlabel(\"Predicted\")\n",
    "plt.ylabel(\"Actual\")\n",
    "plt.show()\n"
   ]
  }
 ],
 "metadata": {
  "colab": {
   "provenance": []
  },
  "kernelspec": {
   "display_name": "Python 3",
   "name": "python3"
  },
  "language_info": {
   "codemirror_mode": {
    "name": "ipython",
    "version": 3
   },
   "file_extension": ".py",
   "mimetype": "text/x-python",
   "name": "python",
   "nbconvert_exporter": "python",
   "pygments_lexer": "ipython3",
   "version": "3.12.1"
  }
 },
 "nbformat": 4,
 "nbformat_minor": 0
}